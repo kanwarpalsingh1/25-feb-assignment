{
 "cells": [
  {
   "cell_type": "code",
   "execution_count": 1,
   "id": "64b50ef9-13dd-4d15-8077-e7bc39df9311",
   "metadata": {},
   "outputs": [
    {
     "name": "stdout",
     "output_type": "stream",
     "text": [
      "course_name    Machine Learning\n",
      "duration                      3\n",
      "Name: 1, dtype: object\n"
     ]
    }
   ],
   "source": [
    "'''Consider following code to answer further questions:\n",
    "import pandas as pd\n",
    "course_name = [‘Data Science’, ‘Machine Learning’, ‘Big Data’, ‘Data Engineer’]\n",
    "duration = [2,3,6,4]\n",
    "df = pd.DataFrame(data = {‘course_name’ : course_name, ‘duration’ : duration})\n",
    "Q1. Write a code to print the data present in the second row of the dataframe, df.'''\n",
    "import pandas as pd\n",
    "\n",
    "# Define course_name and duration lists\n",
    "course_name = ['Data Science', 'Machine Learning', 'Big Data', 'Data Engineer']\n",
    "duration = [2, 3, 6, 4]\n",
    "\n",
    "# Create DataFrame\n",
    "df = pd.DataFrame(data={'course_name': course_name, 'duration': duration})\n",
    "\n",
    "# Print data present in the second row of the DataFrame df\n",
    "print(df.iloc[1])"
   ]
  },
  {
   "cell_type": "markdown",
   "id": "54b0ae86-7a5e-47fc-8cfc-945cfef85fb8",
   "metadata": {},
   "source": [
    "Q2. What is the difference between the functions loc and iloc in pandas.DataFrame?\n",
    "loc:\n",
    "\n",
    "loc is label-based indexing, which means that you can use row and column labels to index data.\n",
    "When using loc, you specify the row labels and column labels explicitly.\n",
    "The syntax for loc is df.loc[row_label, column_label].\n",
    "It includes the endpoint in the slice.\n",
    "iloc:\n",
    "\n",
    "iloc is integer-based indexing, which means that you can use integer indices to index data.\n",
    "When using iloc, you specify the row indices and column indices using integers.\n",
    "The syntax for iloc is df.iloc[row_index, column_index].\n",
    "It excludes the endpoint in the slice.\n"
   ]
  },
  {
   "cell_type": "code",
   "execution_count": 2,
   "id": "ac05b603-e1d3-4837-8cdc-c41982e3671b",
   "metadata": {},
   "outputs": [
    {
     "name": "stdout",
     "output_type": "stream",
     "text": [
      "Output for new_df.loc[2]:\n",
      " column_1    0.124507\n",
      "column_2    0.056715\n",
      "column_3    0.696638\n",
      "column_4    0.753719\n",
      "column_5    0.314729\n",
      "column_6    0.514873\n",
      "Name: 2, dtype: float64\n",
      "\n",
      "Output for new_df.iloc[2]:\n",
      " column_1    0.013616\n",
      "column_2    0.378592\n",
      "column_3    0.606198\n",
      "column_4    0.438389\n",
      "column_5    0.952884\n",
      "column_6    0.974370\n",
      "Name: 1, dtype: float64\n"
     ]
    }
   ],
   "source": [
    "'''Q3. Reindex the given dataframe using a variable, reindex = [3,0,1,2] and store it in the variable, new_df\n",
    "then find the output for both new_df.loc[2] and new_df.iloc[2].'''\n",
    "import pandas as pd\n",
    "import numpy as np\n",
    "\n",
    "# Given DataFrame\n",
    "columns = ['column_1', 'column_2', 'column_3', 'column_4', 'column_5', 'column_6']\n",
    "indices = [1, 2, 3, 4, 5, 6]\n",
    "df1 = pd.DataFrame(np.random.rand(6, 6), columns=columns, index=indices)\n",
    "\n",
    "# Reindexing using the list [3, 0, 1, 2]\n",
    "reindex = [3, 0, 1, 2]\n",
    "new_df = df1.reindex(reindex)\n",
    "\n",
    "# Output for new_df.loc[2] and new_df.iloc[2]\n",
    "print(\"Output for new_df.loc[2]:\\n\", new_df.loc[2])\n",
    "print(\"\\nOutput for new_df.iloc[2]:\\n\", new_df.iloc[2])"
   ]
  },
  {
   "cell_type": "code",
   "execution_count": 3,
   "id": "025a9f90-4532-43fe-8257-53aec474e1be",
   "metadata": {},
   "outputs": [
    {
     "name": "stdout",
     "output_type": "stream",
     "text": [
      "\n",
      "Mean of each column:\n",
      " column_1    0.502433\n",
      "column_2    0.396327\n",
      "column_3    0.488269\n",
      "column_4    0.495263\n",
      "column_5    0.476988\n",
      "column_6    0.571940\n",
      "dtype: float64\n",
      "\n",
      "Standard deviation of column 'column_2': 0.23074918480481854\n"
     ]
    }
   ],
   "source": [
    "'''Q4. Write a code to find the following statistical measurements for the above dataframe df1: (i) mean of each and every column present in the dataframe. (ii) standard deviation of column, ‘column_2'’'''\n",
    "mean_of_each_column = df1.mean()\n",
    "print(\"\\nMean of each column:\\n\", mean_of_each_column)\n",
    "\n",
    "# (ii) Standard deviation of column 'column_2'\n",
    "std_dev_column_2 = df1['column_2'].std()\n",
    "print(\"\\nStandard deviation of column 'column_2':\", std_dev_column_2)"
   ]
  },
  {
   "cell_type": "markdown",
   "id": "72d6a3be-d212-4cc6-839c-989e0af35e3f",
   "metadata": {},
   "source": [
    "'''Q6. What do you understand about the windows function in pandas and list the types of windows functions?\n",
    "\n",
    "In pandas, window functions are used for calculating aggregate statistics on a sliding window of data. They allow you to perform operations like rolling mean, rolling sum, etc., over a specified window size.\n",
    "\n",
    "Some common types of window functions in pandas include:\n",
    "\n",
    "Rolling: Calculate statistics over a fixed window of time or observations.\n",
    "Expanding: Calculate cumulative statistics from the beginning of the time series up to each point.\n",
    "Exponential moving window: Calculates the exponentially weighted moving average of the data.\n",
    "Rolling apply: Apply a custom function over a rolling window.'''"
   ]
  },
  {
   "cell_type": "code",
   "execution_count": 4,
   "id": "99828f73-c4c6-46d1-ba90-00223b3ee1df",
   "metadata": {},
   "outputs": [
    {
     "name": "stdout",
     "output_type": "stream",
     "text": [
      "Current Month: 2\n",
      "Current Year: 2024\n"
     ]
    }
   ],
   "source": [
    "'''Q7. Write a code to print only the current month and year at the time of answering this question.'''\n",
    "import pandas as pd\n",
    "\n",
    "# Get the current date\n",
    "current_date = pd.Timestamp.now()\n",
    "\n",
    "# Print current month and year\n",
    "print(\"Current Month:\", current_date.month)\n",
    "print(\"Current Year:\", current_date.year)"
   ]
  },
  {
   "cell_type": "code",
   "execution_count": 5,
   "id": "f6f4ebc1-322f-4be1-b375-1ad8c6dcd9e6",
   "metadata": {},
   "outputs": [
    {
     "name": "stdin",
     "output_type": "stream",
     "text": [
      "Enter the first date (YYYY-MM-DD):  2003-2-2\n",
      "Enter the second date (YYYY-MM-DD):  2003-1-1-\n"
     ]
    },
    {
     "name": "stdout",
     "output_type": "stream",
     "text": [
      "Difference between the dates:\n",
      "Days: -32\n",
      "Hours: 0\n",
      "Minutes: 0\n"
     ]
    }
   ],
   "source": [
    "'''Q8. Write a Python program that takes in two dates as input (in the format YYYY-MM-DD) and calculates the difference between them in days, hours, and minutes using Pandas time delta. The program should prompt the user to enter the dates and display the result.'''\n",
    "import pandas as pd\n",
    "\n",
    "# Get input from the user\n",
    "date1_str = input(\"Enter the first date (YYYY-MM-DD): \")\n",
    "date2_str = input(\"Enter the second date (YYYY-MM-DD): \")\n",
    "\n",
    "# Convert input strings to datetime objects\n",
    "date1 = pd.to_datetime(date1_str)\n",
    "date2 = pd.to_datetime(date2_str)\n",
    "\n",
    "# Calculate the difference between dates\n",
    "time_difference = date2 - date1\n",
    "\n",
    "# Extract days, hours, and minutes from the time difference\n",
    "days = time_difference.days\n",
    "hours = time_difference.seconds // 3600\n",
    "minutes = (time_difference.seconds % 3600) // 60\n",
    "\n",
    "# Display the result\n",
    "print(\"Difference between the dates:\")\n",
    "print(\"Days:\", days)\n",
    "print(\"Hours:\", hours)\n",
    "print(\"Minutes:\", minutes)"
   ]
  },
  {
   "cell_type": "code",
   "execution_count": null,
   "id": "424a23bc-391f-464a-90b2-f50e9e16ca3e",
   "metadata": {},
   "outputs": [],
   "source": []
  }
 ],
 "metadata": {
  "kernelspec": {
   "display_name": "Python 3 (ipykernel)",
   "language": "python",
   "name": "python3"
  },
  "language_info": {
   "codemirror_mode": {
    "name": "ipython",
    "version": 3
   },
   "file_extension": ".py",
   "mimetype": "text/x-python",
   "name": "python",
   "nbconvert_exporter": "python",
   "pygments_lexer": "ipython3",
   "version": "3.10.8"
  }
 },
 "nbformat": 4,
 "nbformat_minor": 5
}
